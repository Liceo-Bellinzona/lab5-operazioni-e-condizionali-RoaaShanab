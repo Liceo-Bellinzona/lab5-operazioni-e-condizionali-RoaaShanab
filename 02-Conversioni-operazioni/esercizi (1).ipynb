{
 "cells": [
  {
   "cell_type": "markdown",
   "metadata": {},
   "source": [
    "# Paga lorda\n",
    "Scrivere un programma che calcoli e visualizzi la paga lorda di un dipendente a ore. I\n",
    "passaggi da seguire sono i seguenti:\n",
    "1. Ottenere il numero di ore lavorative;\n",
    "2. ottenere retribuzione oraria;\n",
    "3. moltiplicare il numero di ore lavorate per la retribuzione oraria;\n",
    "4. visualizzare il risultato del calcolo eseguito al passaggio 3."
   ]
  },
  {
   "cell_type": "code",
   "execution_count": 7,
   "metadata": {},
   "outputs": [
    {
     "name": "stdout",
     "output_type": "stream",
     "text": [
      "hai lavorato 30 ore per 30 franchi all`ora\n",
      "hai guadagnato 900 franchi\n"
     ]
    }
   ],
   "source": [
    "n_lav = int(input(\"inserisci ore lavorative\"))\n",
    "retribuzione_ora = int(input(\"inserisce retribuzione oraria\"))\n",
    "\n",
    "print(f\"hai lavorato {n_lav} ore per {retribuzione_ora} franchi all`ora\")\n",
    "\n",
    "\n",
    "print(f\"hai guadagnato {n_lav*retribuzione_ora} franchi\")\n"
   ]
  },
  {
   "cell_type": "markdown",
   "metadata": {},
   "source": [
    "# Calcolo della superficie\n",
    "Un acro di terra corrisponde a circa 4046 metri quadrati. Scrivere un programma che chieda\n",
    "all’utente di inserire la superficie di un terreno in metri quadrati e calcoli quindi il numero\n",
    "di acri di quel terreno."
   ]
  },
  {
   "cell_type": "markdown",
   "metadata": {},
   "source": []
  },
  {
   "cell_type": "code",
   "execution_count": 8,
   "metadata": {},
   "outputs": [
    {
     "name": "stdout",
     "output_type": "stream",
     "text": [
      "nel tuo terreno ci stanno305.1324765200198 acro\n"
     ]
    }
   ],
   "source": [
    "superficie = int(input(f\"inserisci la superficie del terreno in metri quadrati \"))\n",
    "\n",
    "print(f\"nel tuo terreno ci stanno{superficie/4046} acro\")"
   ]
  },
  {
   "cell_type": "markdown",
   "metadata": {},
   "source": [
    "# Previsioni delle vendite \n",
    "Un’azienda ha determinato che il suo profitto annuale è tipicamente il 23% del totale delle\n",
    "vendite. \n",
    "Scrivere un programma che chieda all’utente di inserire il totale delle vendite previste e visualizzi quindi il profitto che si terrà da questa somma.\n",
    "\n",
    "*Suggerimento: non esiste il tipo di dato 23%. È necessario utilizzare gli operatori di\n",
    "moltiplicazione e divisione per ottenere la percentuale sul totale delle vendite.*\n"
   ]
  },
  {
   "cell_type": "markdown",
   "metadata": {},
   "source": []
  },
  {
   "cell_type": "code",
   "execution_count": 9,
   "metadata": {},
   "outputs": [
    {
     "name": "stdout",
     "output_type": "stream",
     "text": [
      "il tuo profitto sarà di 5.75\n"
     ]
    }
   ],
   "source": [
    "tot_vendite = int(input(f\"inserisci il totale delle vendite previste\"))\n",
    "print(f\"il tuo profitto sarà di {tot_vendite*23/100}\")\n"
   ]
  },
  {
   "cell_type": "markdown",
   "metadata": {},
   "source": [
    "# IVA \n",
    "Scrivere un programma che chieda all’utente di inserire il costo totale di un acquisto al netto\n",
    "di Iva. \n",
    "\n",
    "Si supponga che l’IVA sia pari all’8%. \n",
    "\n",
    "Il programma deve visualizzare il costo totale\n",
    "dell’acquisto al netto di IVA, l’IVA e il costo totale dell’acquisto (quindi IVA compresa)."
   ]
  },
  {
   "cell_type": "code",
   "execution_count": 3,
   "metadata": {},
   "outputs": [
    {
     "name": "stdout",
     "output_type": "stream",
     "text": [
      "il costo dell'acquisto al netto di IVA é 123457.0\n",
      "l`IVA é di 9876.56\n",
      "costo totale dell`acquisto 133333.56\n"
     ]
    }
   ],
   "source": [
    "costo_tot = float(input(f\"inserisci il costo totale dell'acquisto \"))\n",
    "print(f\"il costo dell'acquisto al netto di IVA é {costo_tot}\")\n",
    "print(f\"l`IVA é di {costo_tot*8/100}\")\n",
    "print(f\"costo totale dell`acquisto {costo_tot*8/100+costo_tot}\")"
   ]
  },
  {
   "cell_type": "code",
   "execution_count": null,
   "metadata": {},
   "outputs": [],
   "source": []
  }
 ],
 "metadata": {
  "kernelspec": {
   "display_name": "Python 3 (ipykernel)",
   "language": "python",
   "name": "python3"
  },
  "language_info": {
   "codemirror_mode": {
    "name": "ipython",
    "version": 3
   },
   "file_extension": ".py",
   "mimetype": "text/x-python",
   "name": "python",
   "nbconvert_exporter": "python",
   "pygments_lexer": "ipython3",
   "version": "3.10.13"
  }
 },
 "nbformat": 4,
 "nbformat_minor": 2
}
