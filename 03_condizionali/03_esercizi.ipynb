{
 "cells": [
  {
   "cell_type": "markdown",
   "metadata": {},
   "source": [
    "# Altezza\n",
    "\n",
    "Viene chiesto di scrivere un programma che chieda all'utente di fornire la sua altezza in centimetri. Se l'altezza è maggiore o uguale a 180 il programma deve stampare la seguente dicitura: ``Sei una persona molto alta``.\n",
    "\n",
    "Tradurre il diagramma di flusso in un codice Python che risolva il problema.\n"
   ]
  },
  {
   "cell_type": "code",
   "execution_count": 2,
   "metadata": {},
   "outputs": [
    {
     "name": "stdout",
     "output_type": "stream",
     "text": [
      "sei una persona di media altezza\n"
     ]
    }
   ],
   "source": [
    "altezza= float(input(\"Qual'è la tua altezza ?\"))\n",
    "\n",
    "if altezza >= 180:\n",
    "     print(f\"sei una persona molto alta\")\n",
    "\n",
    "print(f\"sei una persona di media altezza\")\n",
    " "
   ]
  },
  {
   "cell_type": "markdown",
   "metadata": {},
   "source": [
    "# Altezza 2\n",
    " Riprendere l'esercizio precedente ed aggiungere il codice che permetta al programma di scrivere ``Sei una persona di media altezza`` se l'altezza è inferiore a 180 cm.\n",
    "\n",
    " Tradurre il diagramma di flusso in un codice Python che risolva il problema."
   ]
  },
  {
   "cell_type": "markdown",
   "metadata": {},
   "source": [
    "# Area rettangolo\n",
    "L'area di un rettangolo è uguale alla sua base per la sua altezza. Scrivere un programma che chieda la base e l'altezza di due rettangoli e successivamente indichi quale dei due rettangoli ha l'area maggiore."
   ]
  },
  {
   "cell_type": "code",
   "execution_count": 7,
   "metadata": {},
   "outputs": [
    {
     "name": "stdout",
     "output_type": "stream",
     "text": [
      " area_1 è minore di area_2\n"
     ]
    }
   ],
   "source": [
    "base_1= float(input(\"qual'è la base del primo rettagolo ?\"))\n",
    "base_2= float(input(\"qual'è la base del secondo rettangolo ?\"))\n",
    "altezza_1= float(input(\"qual'è l'altezza del primo rettangolo ?\"))\n",
    "altezza_2 = float(input(\"qual'è l'altezza del secondo triangolo ?\"))\n",
    "\n",
    "area_1 = base_1*altezza_1 \n",
    "area_2 = base_2*altezza_2 \n",
    "\n",
    "if area_1 > area_2:\n",
    "    print(f\" area_1 è maggiore di area_2 \")\n",
    "if area_1 < area_2:   \n",
    "    print(f\" area_1 è minore di area_2\")\n",
    "else:\n",
    "    area_1 == area_2\n",
    "    print(f\" area_1 è uguale a area_2\")"
   ]
  },
  {
   "cell_type": "markdown",
   "metadata": {},
   "source": [
    "# Pari e dispari\n",
    "Scrivere un programma che chieda all'utente di indicare un numero intero. Se il numero è pari, il programma deve visualizzare: ``Il tuo numero è pari`` , se invece il numero è dispari deve visualizzare: ``Il tuo numero è dispari``."
   ]
  },
  {
   "cell_type": "code",
   "execution_count": 9,
   "metadata": {},
   "outputs": [
    {
     "name": "stdout",
     "output_type": "stream",
     "text": [
      "numero inserito è dispari\n"
     ]
    }
   ],
   "source": [
    "numero_intero = int(input(\"inserisci un numero intero\"))\n",
    "if numero_intero % 2 == 1:\n",
    "    print(f\"numero inserito è dispari\")\n",
    "else:\n",
    "    print(f\"numero inserito pari\")"
   ]
  },
  {
   "cell_type": "markdown",
   "metadata": {},
   "source": [
    "# Password\n",
    " Scrivere un programma che chieda all'utente di inserire una password a proprio piacimento. Se la password è composta da almeno 8 caratteri il programma deve visualizzare: ``La password è stata accettata`` , altrimenti ``La password inserita è troppo corta``"
   ]
  },
  {
   "cell_type": "code",
   "execution_count": 10,
   "metadata": {},
   "outputs": [
    {
     "name": "stdout",
     "output_type": "stream",
     "text": [
      "la password è stata accettata\n"
     ]
    }
   ],
   "source": [
    "password= str(input(\"inserisci password\"))\n",
    "\n",
    "if  len(password) >= 8:\n",
    "    print(f\"la password è stata accettata\")\n",
    "\n",
    "else:\n",
    "    print(f\"la password inserita è troppo corta\")\n",
    "    \n"
   ]
  },
  {
   "cell_type": "markdown",
   "metadata": {},
   "source": [
    "# Assegnazioni\n",
    "\n",
    "Scrivere una istruzione ``if`` che assegni 0 alla variabile ``b`` e assegni 1 alla variabile ``c``  se la variabile ``a`` è minore di 10."
   ]
  },
  {
   "cell_type": "code",
   "execution_count": null,
   "metadata": {},
   "outputs": [],
   "source": [
    "a= int(input(\"qaunto è a \"))\n"
   ]
  },
  {
   "cell_type": "markdown",
   "metadata": {},
   "source": [
    "# Assegnazioni 2\n",
    "Scrivere una istruzione ``if-else `` che assegni 0 alla variabile ``b`` se la variabile ``a`` è minore di 10. In caso contrario, l'istruzione deve assegnare 99 alla variabile ``b``."
   ]
  },
  {
   "cell_type": "markdown",
   "metadata": {},
   "source": []
  }
 ],
 "metadata": {
  "kernelspec": {
   "display_name": "Python 3 (ipykernel)",
   "language": "python",
   "name": "python3"
  }
 },
 "nbformat": 4,
 "nbformat_minor": 2
}
